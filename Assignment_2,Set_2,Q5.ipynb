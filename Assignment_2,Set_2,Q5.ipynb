{
  "nbformat": 4,
  "nbformat_minor": 0,
  "metadata": {
    "colab": {
      "name": " Assignment 2,Set 2,Q5.ipynb",
      "provenance": [],
      "authorship_tag": "ABX9TyOM8h4mo7729/rrmZgAmjVI",
      "include_colab_link": true
    },
    "kernelspec": {
      "name": "python3",
      "display_name": "Python 3"
    },
    "language_info": {
      "name": "python"
    }
  },
  "cells": [
    {
      "cell_type": "markdown",
      "metadata": {
        "id": "view-in-github",
        "colab_type": "text"
      },
      "source": [
        "<a href=\"https://colab.research.google.com/github/swatigawale/Assignment-2-Set-2-Q-5.ipynb/blob/main/Assignment_2%2CSet_2%2CQ5.ipynb\" target=\"_parent\"><img src=\"https://colab.research.google.com/assets/colab-badge.svg\" alt=\"Open In Colab\"/></a>"
      ]
    },
    {
      "cell_type": "code",
      "metadata": {
        "id": "LFbpvdiMvyjH"
      },
      "source": [
        "import numpy as np\n",
        "from scipy import stats\n",
        "from scipy.stats import norm"
      ],
      "execution_count": null,
      "outputs": []
    },
    {
      "cell_type": "code",
      "metadata": {
        "colab": {
          "base_uri": "https://localhost:8080/"
        },
        "id": "IC7wwja0d4zv",
        "outputId": "d6df6ecd-db2f-4755-8a27-ceab52020c42"
      },
      "source": [
        "#mean profits from two different divisions of a company =mean1+mean2\n",
        "Mean =5+7\n",
        "print('Mean profit is Rs',Mean*45,'Million')"
      ],
      "execution_count": null,
      "outputs": [
        {
          "output_type": "stream",
          "name": "stdout",
          "text": [
            "Mean profit is Rs 540 Million\n"
          ]
        }
      ]
    },
    {
      "cell_type": "code",
      "metadata": {
        "colab": {
          "base_uri": "https://localhost:8080/"
        },
        "id": "PLTml264eefd",
        "outputId": "59c7c324-d990-41cc-d986-4e146763470b"
      },
      "source": [
        "#variance of profits from two different divisions of a company =SD^2=SD1^2+SD2^2\n",
        "SD=np.sqrt ((9)*(16))\n",
        "print ('standard deviation is Rs',SD*45,'Million')"
      ],
      "execution_count": null,
      "outputs": [
        {
          "output_type": "stream",
          "name": "stdout",
          "text": [
            "standard deviation is Rs 540.0 Million\n"
          ]
        }
      ]
    },
    {
      "cell_type": "code",
      "metadata": {
        "colab": {
          "base_uri": "https://localhost:8080/"
        },
        "id": "DG3ve4wvfPwp",
        "outputId": "4df03882-11c9-4503-9952-ae75fba2485f"
      },
      "source": [
        "print ('Range is Rs',(stats.norm.interval(0.95,540,225)),'millions')"
      ],
      "execution_count": null,
      "outputs": [
        {
          "output_type": "stream",
          "name": "stdout",
          "text": [
            "Range is Rs (99.00810347848784, 980.9918965215122) millions\n"
          ]
        }
      ]
    },
    {
      "cell_type": "code",
      "metadata": {
        "colab": {
          "base_uri": "https://localhost:8080/"
        },
        "id": "TkWmzyQGfkY1",
        "outputId": "7eae27eb-5639-400d-92e6-0192be903724"
      },
      "source": [
        "X=540+(-1.645)*(225)\n",
        "print('5th percentile of profit (in Million Rupees)is',np.round(X,))"
      ],
      "execution_count": null,
      "outputs": [
        {
          "output_type": "stream",
          "name": "stdout",
          "text": [
            "5th percentile of profit (in Million Rupees)is 170.0\n"
          ]
        }
      ]
    },
    {
      "cell_type": "code",
      "metadata": {
        "colab": {
          "base_uri": "https://localhost:8080/"
        },
        "id": "8N6E8eWygiGc",
        "outputId": "304e21d1-cadd-4b23-a186-29f51bce657c"
      },
      "source": [
        "stats.norm.cdf(0,7,4)"
      ],
      "execution_count": null,
      "outputs": [
        {
          "output_type": "execute_result",
          "data": {
            "text/plain": [
              "0.040059156863817086"
            ]
          },
          "metadata": {},
          "execution_count": 10
        }
      ]
    },
    {
      "cell_type": "code",
      "metadata": {
        "colab": {
          "base_uri": "https://localhost:8080/"
        },
        "id": "144_aLKAgZI1",
        "outputId": "87142522-c5cf-4843-c5d4-f5d5cf5e7e3e"
      },
      "source": [
        "stats.norm.cdf(0,5,3)"
      ],
      "execution_count": null,
      "outputs": [
        {
          "output_type": "execute_result",
          "data": {
            "text/plain": [
              "0.0477903522728147"
            ]
          },
          "metadata": {},
          "execution_count": 11
        }
      ]
    },
    {
      "cell_type": "code",
      "metadata": {
        "id": "5Bwjm6eAgwE0"
      },
      "source": [
        ""
      ],
      "execution_count": null,
      "outputs": []
    }
  ]
}